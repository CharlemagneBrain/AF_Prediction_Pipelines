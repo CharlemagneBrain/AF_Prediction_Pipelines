{
 "cells": [
  {
   "attachments": {},
   "cell_type": "markdown",
   "metadata": {},
   "source": [
    "# Génération de données ECG avec VAEs"
   ]
  },
  {
   "cell_type": "code",
   "execution_count": null,
   "metadata": {},
   "outputs": [],
   "source": [
    "# gpt Index\n",
    "# gpt lama_"
   ]
  },
  {
   "cell_type": "code",
   "execution_count": null,
   "metadata": {},
   "outputs": [],
   "source": [
    "import h5py\n",
    "import numpy as np\n",
    "import pandas as pd\n",
    "import matplotlib.pyplot as plt\n",
    "\n",
    "import tensorflow as tf\n",
    "from tensorflow.keras.callbacks import (ModelCheckpoint, TensorBoard, ReduceLROnPlateau,\n",
    "                                        CSVLogger, EarlyStopping)\n",
    "from tensorflow.keras.layers import Input, Conv2D, ELU, BatchNormalization, AveragePooling2D, Flatten, Dense, Lambda, Conv2DTranspose, UpSampling2D, Reshape\n",
    "from tensorflow.keras.models import Model\n",
    "from tensorflow.keras import Input, Model\n",
    "import datetime\n",
    "from VAELossLayer import VariationalLossLayer\n",
    "from SamplingLayer import SamplingLayer\n",
    "from Preprocess import Preprocess\n",
    "from BestModelCallback import BestModelCallback\n",
    "from vae import VAE\n",
    "from dvclive.keras import DVCLiveCallback\n",
    "from scipy.signal import resample\n",
    "from sklearn.model_selection import train_test_split\n",
    "\n"
   ]
  },
  {
   "attachments": {},
   "cell_type": "markdown",
   "metadata": {},
   "source": [
    "## Prétraitement des ECGs "
   ]
  },
  {
   "cell_type": "code",
   "execution_count": 19,
   "metadata": {},
   "outputs": [
    {
     "name": "stdout",
     "output_type": "stream",
     "text": [
      "(54, 400, 12)\n",
      "(54, 400, 12)\n",
      "(54, 400, 12, 1)\n"
     ]
    }
   ],
   "source": [
    "ECG_DIR = './xml_data/avril/' # ECG sous format xml\n",
    "ECG_OUTPUT = './xml_data/ECG.H5' # ECG sous format hdf5\n",
    "ecg_dataset = Preprocess(input_dir=ECG_DIR, output_file=ECG_OUTPUT)\n",
    "ecg_dataset.xml_to_tensor()\n",
    "\n",
    "with h5py.File(ECG_OUTPUT, 'r') as f:\n",
    "        X_train = f['tracings'][:]\n",
    "\n",
    "print(X_train.shape)\n",
    "train_data =  X_train.reshape(X_train.shape + (1,))\n",
    "print(train_data.shape)\n"
   ]
  },
  {
   "cell_type": "code",
   "execution_count": 17,
   "metadata": {},
   "outputs": [],
   "source": [
    "# with h5py.File('xml_data/ecg_tracings.hdf5', 'r') as f:\n",
    "#         X_train = f['tracings'][:]\n",
    "\n",
    "# print(X_train.shape)\n",
    "\n",
    "# # Rééchantillonner le dataset\n",
    "# X_train = resample(X_train, num=400, axis=1)\n",
    "\n",
    "# # Vérifier la nouvelle dimension\n",
    "# print(X_train.shape)  # Output: (827, 400, 12)\n"
   ]
  },
  {
   "cell_type": "code",
   "execution_count": 4,
   "metadata": {},
   "outputs": [
    {
     "name": "stdout",
     "output_type": "stream",
     "text": [
      "(827, 400, 12)\n",
      "(827, 400, 12, 1)\n",
      "(661, 400, 12, 1) (166, 400, 12, 1)\n"
     ]
    }
   ],
   "source": [
    "input_shape = (400,12,1)\n",
    "print(X_train.shape)\n",
    "\n",
    "data =  X_train.reshape(X_train.shape + (1,)) # to align with our input shape\n",
    "\n",
    "# data = np.transpose(data, (0, 2, 1,3))\n",
    "# print(data.shape)\n",
    "print(data.shape)\n",
    "\n",
    "train_data, test_data = train_test_split(data, test_size=0.2, random_state=42)\n",
    "print(train_data.shape, test_data.shape)"
   ]
  },
  {
   "attachments": {},
   "cell_type": "markdown",
   "metadata": {},
   "source": [
    "## Architecture inspirée du cVAE \n",
    "### Cite :\n",
    "Y. Sang, M. Beetz and V. Grau, \"Generation of 12-Lead Electrocardiogram with Subject-Specific, Image-Derived Characteristics Using a Conditional Variational Autoencoder,\" 2022 IEEE 19th International Symposium on Biomedical Imaging (ISBI), Kolkata, India, 2022, pp. 1-5, doi: 10.1109/ISBI52829.2022.9761431.\n",
    "\n",
    "\n",
    "\n",
    "\n"
   ]
  },
  {
   "cell_type": "code",
   "execution_count": 5,
   "metadata": {},
   "outputs": [],
   "source": [
    "LEARNING_RATE = 0.001\n",
    "BATCH_SIZE = 64\n",
    "EPOCHS = 100\n",
    "LATENT_DIM = 32"
   ]
  },
  {
   "cell_type": "code",
   "execution_count": 6,
   "metadata": {},
   "outputs": [
    {
     "name": "stdout",
     "output_type": "stream",
     "text": [
      "WARNING:tensorflow:From /home/charlie/Documents/af_prediction_pipelines/ai_af/lib/python3.9/site-packages/keras/layers/normalization/batch_normalization.py:581: _colocate_with (from tensorflow.python.framework.ops) is deprecated and will be removed in a future version.\n",
      "Instructions for updating:\n",
      "Colocations handled automatically by placer.\n"
     ]
    },
    {
     "name": "stderr",
     "output_type": "stream",
     "text": [
      "2023-05-06 20:59:07.064680: E tensorflow/compiler/xla/stream_executor/cuda/cuda_driver.cc:266] failed call to cuInit: CUDA_ERROR_NO_DEVICE: no CUDA-capable device is detected\n",
      "WARNING:tensorflow:From /home/charlie/Documents/af_prediction_pipelines/ai_af/lib/python3.9/site-packages/keras/layers/normalization/batch_normalization.py:581: _colocate_with (from tensorflow.python.framework.ops) is deprecated and will be removed in a future version.\n",
      "Instructions for updating:\n",
      "Colocations handled automatically by placer.\n"
     ]
    },
    {
     "name": "stdout",
     "output_type": "stream",
     "text": [
      "Model: \"encoder\"\n",
      "__________________________________________________________________________________________________\n",
      " Layer (type)                   Output Shape         Param #     Connected to                     \n",
      "==================================================================================================\n",
      " encoder_input (InputLayer)     [(None, 400, 12, 1)  0           []                               \n",
      "                                ]                                                                 \n",
      "                                                                                                  \n",
      " encoder_conv_layer_1 (Conv2D)  (None, 400, 12, 5)   2005        ['encoder_input[0][0]']          \n",
      "                                                                                                  \n",
      " encoder_relu_1 (ELU)           (None, 400, 12, 5)   0           ['encoder_conv_layer_1[0][0]']   \n",
      "                                                                                                  \n",
      " encoder_bn_1 (BatchNormalizati  (None, 400, 12, 5)  20          ['encoder_relu_1[0][0]']         \n",
      " on)                                                                                              \n",
      "                                                                                                  \n",
      " encoder_conv_layer_2 (Conv2D)  (None, 400, 12, 5)   305         ['encoder_bn_1[0][0]']           \n",
      "                                                                                                  \n",
      " encoder_relu_2 (ELU)           (None, 400, 12, 5)   0           ['encoder_conv_layer_2[0][0]']   \n",
      "                                                                                                  \n",
      " encoder_bn_2 (BatchNormalizati  (None, 400, 12, 5)  20          ['encoder_relu_2[0][0]']         \n",
      " on)                                                                                              \n",
      "                                                                                                  \n",
      " encoder_conv_layer_3 (Conv2D)  (None, 400, 6, 5)    30          ['encoder_bn_2[0][0]']           \n",
      "                                                                                                  \n",
      " encoder_relu_3 (ELU)           (None, 400, 6, 5)    0           ['encoder_conv_layer_3[0][0]']   \n",
      "                                                                                                  \n",
      " encoder_bn_3 (BatchNormalizati  (None, 400, 6, 5)   20          ['encoder_relu_3[0][0]']         \n",
      " on)                                                                                              \n",
      "                                                                                                  \n",
      " flatten (Flatten)              (None, 12000)        0           ['encoder_bn_3[0][0]']           \n",
      "                                                                                                  \n",
      " z_mean (Dense)                 (None, 32)           384032      ['flatten[0][0]']                \n",
      "                                                                                                  \n",
      " z_log_var (Dense)              (None, 32)           384032      ['flatten[0][0]']                \n",
      "                                                                                                  \n",
      " sampling_layer (SamplingLayer)  (None, 32)          0           ['z_mean[0][0]',                 \n",
      "                                                                  'z_log_var[0][0]']              \n",
      "                                                                                                  \n",
      "==================================================================================================\n",
      "Total params: 770,464\n",
      "Trainable params: 770,434\n",
      "Non-trainable params: 30\n",
      "__________________________________________________________________________________________________\n"
     ]
    }
   ],
   "source": [
    "# Encodeur\n",
    "\n",
    "encoder_input = tf.keras.layers.Input(shape=(400, 12, 1), name='encoder_input')\n",
    "\n",
    "conv_1 = tf.keras.layers.Conv2D(filters=5, kernel_size=(1, 400), padding='same', name='encoder_conv_layer_1')(encoder_input)\n",
    "relu_1 = tf.keras.layers.ELU(name='encoder_relu_1')(conv_1)\n",
    "bn_1 = tf.keras.layers.BatchNormalization(name='encoder_bn_1')(relu_1)\n",
    "\n",
    "conv_2 = tf.keras.layers.Conv2D(filters=5, kernel_size=(1, 12), padding='same', name='encoder_conv_layer_2')(bn_1)\n",
    "relu_2 = tf.keras.layers.ELU(name='encoder_relu_2')(conv_2)\n",
    "bn_2 = tf.keras.layers.BatchNormalization(name='encoder_bn_2')(relu_2)\n",
    "\n",
    "conv_3 = tf.keras.layers.Conv2D(filters=5, kernel_size=(1, 1), padding='same', strides=(1, 2), name='encoder_conv_layer_3')(bn_2)\n",
    "relu_3 = tf.keras.layers.ELU(name='encoder_relu_3')(conv_3)\n",
    "bn_3 = tf.keras.layers.BatchNormalization(name='encoder_bn_3')(relu_3)\n",
    "\n",
    "flatten = tf.keras.layers.Flatten(name='flatten')(bn_3)\n",
    "#dense = tf.keras.layers.Dense(units=1000)(flatten)\n",
    "z_mean = Dense(LATENT_DIM, name=\"z_mean\")(flatten)\n",
    "z_log_var = Dense(LATENT_DIM, name=\"z_log_var\")(flatten)\n",
    "z = SamplingLayer()([z_mean, z_log_var])\n",
    "encoder = Model(encoder_input, [z_mean, z_log_var, z], name='encoder')\n",
    "encoder.summary()"
   ]
  },
  {
   "cell_type": "code",
   "execution_count": 7,
   "metadata": {},
   "outputs": [
    {
     "name": "stdout",
     "output_type": "stream",
     "text": [
      "Model: \"decoder\"\n",
      "_________________________________________________________________\n",
      " Layer (type)                Output Shape              Param #   \n",
      "=================================================================\n",
      " input_1 (InputLayer)        [(None, 32)]              0         \n",
      "                                                                 \n",
      " batch_normalization (BatchN  (None, 32)               128       \n",
      " ormalization)                                                   \n",
      "                                                                 \n",
      " dense (Dense)               (None, 1200)              39600     \n",
      "                                                                 \n",
      " reshape (Reshape)           (None, 400, 3, 1)         0         \n",
      "                                                                 \n",
      " up_sampling2d (UpSampling2D  (None, 400, 12, 1)       0         \n",
      " )                                                               \n",
      "                                                                 \n",
      " conv2d_transpose (Conv2DTra  (None, 400, 12, 1)       6         \n",
      " nspose)                                                         \n",
      "                                                                 \n",
      " elu (ELU)                   (None, 400, 12, 1)        0         \n",
      "                                                                 \n",
      " batch_normalization_1 (Batc  (None, 400, 12, 1)       4         \n",
      " hNormalization)                                                 \n",
      "                                                                 \n",
      " conv2d_transpose_1 (Conv2DT  (None, 400, 12, 1)       13        \n",
      " ranspose)                                                       \n",
      "                                                                 \n",
      " elu_1 (ELU)                 (None, 400, 12, 1)        0         \n",
      "                                                                 \n",
      " batch_normalization_2 (Batc  (None, 400, 12, 1)       4         \n",
      " hNormalization)                                                 \n",
      "                                                                 \n",
      "=================================================================\n",
      "Total params: 39,755\n",
      "Trainable params: 39,687\n",
      "Non-trainable params: 68\n",
      "_________________________________________________________________\n"
     ]
    }
   ],
   "source": [
    "# Décodeur\n",
    "decoder_input = Input(shape=(LATENT_DIM,))\n",
    "x = BatchNormalization()(decoder_input)\n",
    "\n",
    "x = Dense(1200)(x)\n",
    "x = Reshape((400, 3, 1))(x)\n",
    "x = UpSampling2D(size=(1, 4))(x)\n",
    "\n",
    "x = Conv2DTranspose(filters=1, kernel_size=(1, 5), strides=(1, 1), padding='same')(x)\n",
    "x = ELU()(x)\n",
    "x = BatchNormalization()(x)\n",
    "\n",
    "x = Conv2DTranspose(filters=1, kernel_size=(12, 1), strides=(1, 1), padding='same')(x)\n",
    "x = ELU()(x)\n",
    "x = BatchNormalization()(x)\n",
    "\n",
    "decoder_outputs = x\n",
    "\n",
    "decoder = Model(decoder_input, decoder_outputs, name='decoder')\n",
    "\n",
    "decoder.summary()"
   ]
  },
  {
   "cell_type": "code",
   "execution_count": 8,
   "metadata": {},
   "outputs": [
    {
     "data": {
      "text/plain": [
       "TensorShape([None, 400, 12, 1])"
      ]
     },
     "execution_count": 8,
     "metadata": {},
     "output_type": "execute_result"
    }
   ],
   "source": [
    "decoder_outputs.shape"
   ]
  },
  {
   "cell_type": "code",
   "execution_count": 9,
   "metadata": {},
   "outputs": [
    {
     "name": "stdout",
     "output_type": "stream",
     "text": [
      "Model: \"vae\"\n",
      "__________________________________________________________________________________________________\n",
      " Layer (type)                   Output Shape         Param #     Connected to                     \n",
      "==================================================================================================\n",
      " encoder_input (InputLayer)     [(None, 400, 12, 1)  0           []                               \n",
      "                                ]                                                                 \n",
      "                                                                                                  \n",
      " encoder_conv_layer_1 (Conv2D)  (None, 400, 12, 5)   2005        ['encoder_input[0][0]']          \n",
      "                                                                                                  \n",
      " encoder_relu_1 (ELU)           (None, 400, 12, 5)   0           ['encoder_conv_layer_1[0][0]']   \n",
      "                                                                                                  \n",
      " encoder_bn_1 (BatchNormalizati  (None, 400, 12, 5)  20          ['encoder_relu_1[0][0]']         \n",
      " on)                                                                                              \n",
      "                                                                                                  \n",
      " encoder_conv_layer_2 (Conv2D)  (None, 400, 12, 5)   305         ['encoder_bn_1[0][0]']           \n",
      "                                                                                                  \n",
      " encoder_relu_2 (ELU)           (None, 400, 12, 5)   0           ['encoder_conv_layer_2[0][0]']   \n",
      "                                                                                                  \n",
      " encoder_bn_2 (BatchNormalizati  (None, 400, 12, 5)  20          ['encoder_relu_2[0][0]']         \n",
      " on)                                                                                              \n",
      "                                                                                                  \n",
      " encoder_conv_layer_3 (Conv2D)  (None, 400, 6, 5)    30          ['encoder_bn_2[0][0]']           \n",
      "                                                                                                  \n",
      " encoder_relu_3 (ELU)           (None, 400, 6, 5)    0           ['encoder_conv_layer_3[0][0]']   \n",
      "                                                                                                  \n",
      " encoder_bn_3 (BatchNormalizati  (None, 400, 6, 5)   20          ['encoder_relu_3[0][0]']         \n",
      " on)                                                                                              \n",
      "                                                                                                  \n",
      " flatten (Flatten)              (None, 12000)        0           ['encoder_bn_3[0][0]']           \n",
      "                                                                                                  \n",
      " z_mean (Dense)                 (None, 32)           384032      ['flatten[0][0]']                \n",
      "                                                                                                  \n",
      " z_log_var (Dense)              (None, 32)           384032      ['flatten[0][0]']                \n",
      "                                                                                                  \n",
      " sampling_layer (SamplingLayer)  (None, 32)          0           ['z_mean[0][0]',                 \n",
      "                                                                  'z_log_var[0][0]']              \n",
      "                                                                                                  \n",
      " decoder (Functional)           (None, 400, 12, 1)   39755       ['sampling_layer[0][0]']         \n",
      "                                                                                                  \n",
      " variational_loss_layer (Variat  (None, 400, 12, 1)  0           ['encoder_input[0][0]',          \n",
      " ionalLossLayer)                                                  'z_mean[0][0]',                 \n",
      "                                                                  'z_log_var[0][0]',              \n",
      "                                                                  'decoder[0][0]']                \n",
      "                                                                                                  \n",
      "==================================================================================================\n",
      "Total params: 810,219\n",
      "Trainable params: 810,121\n",
      "Non-trainable params: 98\n",
      "__________________________________________________________________________________________________\n"
     ]
    }
   ],
   "source": [
    "# VAE\n",
    "loss_weights  = [1,1]\n",
    "outputs = decoder(z)\n",
    "\n",
    "outputs = VariationalLossLayer(loss_weights=loss_weights)([encoder_input, z_mean, z_log_var, outputs])\n",
    "\n",
    "vae = Model(encoder_input, outputs, name='vae')\n",
    "\n",
    "vae.summary()"
   ]
  },
  {
   "cell_type": "code",
   "execution_count": 10,
   "metadata": {},
   "outputs": [],
   "source": [
    "def create_tensorboard_callback(dir_name, experiment_name):\n",
    "        log_dir = dir_name + \"/\" + experiment_name + \"/\" + datetime.datetime.now().strftime(\"%Y%m%d-%H%M%S\")\n",
    "        tensorboard_callback = tf.keras.callbacks.TensorBoard(\n",
    "            log_dir=log_dir\n",
    "        )\n",
    "        print(f\"Sauvegarde fichiers log dans: {log_dir}\")\n",
    "        return tensorboard_callback"
   ]
  },
  {
   "cell_type": "code",
   "execution_count": 11,
   "metadata": {},
   "outputs": [
    {
     "data": {
      "text/plain": [
       "(661, 400, 12, 1)"
      ]
     },
     "execution_count": 11,
     "metadata": {},
     "output_type": "execute_result"
    }
   ],
   "source": [
    "train_data.shape"
   ]
  },
  {
   "cell_type": "code",
   "execution_count": 20,
   "metadata": {},
   "outputs": [
    {
     "name": "stdout",
     "output_type": "stream",
     "text": [
      "WARNING:tensorflow:Output {0} missing from loss dictionary. We assume this was done on purpose. The fit and evaluate APIs will not be expecting any data to be passed to variational_loss_layer.\n"
     ]
    },
    {
     "name": "stderr",
     "output_type": "stream",
     "text": [
      "WARNING:tensorflow:Output {0} missing from loss dictionary. We assume this was done on purpose. The fit and evaluate APIs will not be expecting any data to be passed to variational_loss_layer.\n"
     ]
    },
    {
     "name": "stdout",
     "output_type": "stream",
     "text": [
      "Sauvegarde fichiers log dans: callbacks/samedi_4_test/20230506-212003\n",
      "Train on 54 samples\n"
     ]
    },
    {
     "name": "stderr",
     "output_type": "stream",
     "text": [
      "2023-05-06 21:20:05.494257: W tensorflow/c/c_api.cc:300] Operation '{name:'decoder/batch_normalization_2/AssignMovingAvg_1/AssignSubVariableOp' id:689 op device:{requested: '', assigned: ''} def:{{{node decoder/batch_normalization_2/AssignMovingAvg_1/AssignSubVariableOp}} = AssignSubVariableOp[_class=[\"loc:@batch_normalization_2/moving_variance\"], _has_manual_control_dependencies=true, dtype=DT_FLOAT](batch_normalization_2/moving_variance, decoder/batch_normalization_2/AssignMovingAvg_1/mul)}}' was changed by setting attribute after it was run by a session. This mutation will have no effect, and will trigger an error in the future. Either don't modify nodes after running them or create a new session.\n",
      "2023-05-06 21:20:05.936073: W tensorflow/c/c_api.cc:300] Operation '{name:'training_6/Adam/batch_normalization/beta/m/Assign' id:3113 op device:{requested: '', assigned: ''} def:{{{node training_6/Adam/batch_normalization/beta/m/Assign}} = AssignVariableOp[_has_manual_control_dependencies=true, dtype=DT_FLOAT, validate_shape=false](training_6/Adam/batch_normalization/beta/m, training_6/Adam/batch_normalization/beta/m/Initializer/zeros)}}' was changed by setting attribute after it was run by a session. This mutation will have no effect, and will trigger an error in the future. Either don't modify nodes after running them or create a new session.\n"
     ]
    },
    {
     "name": "stdout",
     "output_type": "stream",
     "text": [
      "Epoch 1/100\n",
      "32/54 [================>.............] - ETA: 0s - loss: nan - r_loss: nan - kl_loss: nan"
     ]
    },
    {
     "name": "stderr",
     "output_type": "stream",
     "text": [
      "2023-05-06 21:20:07.508405: I tensorflow/tsl/profiler/lib/profiler_session.cc:104] Profiler session initializing.\n",
      "2023-05-06 21:20:07.508458: I tensorflow/tsl/profiler/lib/profiler_session.cc:119] Profiler session started.\n"
     ]
    },
    {
     "name": "stdout",
     "output_type": "stream",
     "text": [
      "54/54 [==============================] - 2s 30ms/sample - loss: nan - r_loss: nan - kl_loss: nan - lr: 0.0010\n",
      "Epoch 2/100\n"
     ]
    },
    {
     "name": "stderr",
     "output_type": "stream",
     "text": [
      "2023-05-06 21:20:07.857388: I tensorflow/tsl/profiler/lib/profiler_session.cc:70] Profiler session collecting data.\n",
      "2023-05-06 21:20:07.859893: I tensorflow/tsl/profiler/lib/profiler_session.cc:131] Profiler session tear down.\n"
     ]
    },
    {
     "name": "stdout",
     "output_type": "stream",
     "text": [
      "54/54 [==============================] - 1s 25ms/sample - loss: nan - r_loss: nan - kl_loss: nan - lr: 0.0010\n",
      "Epoch 3/100\n",
      "54/54 [==============================] - 1s 26ms/sample - loss: nan - r_loss: nan - kl_loss: nan - lr: 0.0010\n",
      "Epoch 4/100\n",
      "54/54 [==============================] - 1s 27ms/sample - loss: nan - r_loss: nan - kl_loss: nan - lr: 0.0010\n",
      "Epoch 5/100\n",
      "54/54 [==============================] - 1s 27ms/sample - loss: nan - r_loss: nan - kl_loss: nan - lr: 0.0010\n",
      "Epoch 6/100\n",
      "54/54 [==============================] - 1s 26ms/sample - loss: nan - r_loss: nan - kl_loss: nan - lr: 0.0010\n",
      "Epoch 7/100\n",
      "54/54 [==============================] - 1s 27ms/sample - loss: nan - r_loss: nan - kl_loss: nan - lr: 0.0010\n",
      "Epoch 8/100\n",
      "54/54 [==============================] - 1s 23ms/sample - loss: nan - r_loss: nan - kl_loss: nan - lr: 0.0010\n",
      "Epoch 9/100\n",
      "54/54 [==============================] - 1s 26ms/sample - loss: nan - r_loss: nan - kl_loss: nan - lr: 0.0010\n",
      "Epoch 10/100\n",
      "54/54 [==============================] - 2s 33ms/sample - loss: nan - r_loss: nan - kl_loss: nan - lr: 0.0010\n",
      "Epoch 11/100\n",
      "54/54 [==============================] - 1s 22ms/sample - loss: nan - r_loss: nan - kl_loss: nan - lr: 1.0000e-04\n",
      "Epoch 12/100\n",
      "54/54 [==============================] - 1s 27ms/sample - loss: nan - r_loss: nan - kl_loss: nan - lr: 1.0000e-04\n",
      "Epoch 13/100\n",
      "54/54 [==============================] - 1s 26ms/sample - loss: nan - r_loss: nan - kl_loss: nan - lr: 1.0000e-04\n",
      "Epoch 14/100\n",
      "54/54 [==============================] - 2s 29ms/sample - loss: nan - r_loss: nan - kl_loss: nan - lr: 1.0000e-04\n",
      "Epoch 15/100\n",
      "54/54 [==============================] - 1s 26ms/sample - loss: nan - r_loss: nan - kl_loss: nan - lr: 1.0000e-04\n",
      "Epoch 16/100\n",
      "54/54 [==============================] - 2s 28ms/sample - loss: nan - r_loss: nan - kl_loss: nan - lr: 1.0000e-04\n",
      "Epoch 17/100\n",
      "54/54 [==============================] - 1s 25ms/sample - loss: nan - r_loss: nan - kl_loss: nan - lr: 1.0000e-04\n",
      "Epoch 18/100\n",
      "54/54 [==============================] - 1s 26ms/sample - loss: nan - r_loss: nan - kl_loss: nan - lr: 1.0000e-04\n",
      "Epoch 19/100\n",
      "54/54 [==============================] - 1s 27ms/sample - loss: nan - r_loss: nan - kl_loss: nan - lr: 1.0000e-04\n",
      "Epoch 20/100\n",
      "54/54 [==============================] - 1s 24ms/sample - loss: nan - r_loss: nan - kl_loss: nan - lr: 1.0000e-04\n",
      "Epoch 21/100\n"
     ]
    },
    {
     "ename": "KeyboardInterrupt",
     "evalue": "",
     "output_type": "error",
     "traceback": [
      "\u001b[0;31m---------------------------------------------------------------------------\u001b[0m",
      "\u001b[0;31mKeyboardInterrupt\u001b[0m                         Traceback (most recent call last)",
      "\u001b[0;32m/tmp/ipykernel_286872/1011096482.py\u001b[0m in \u001b[0;36m<module>\u001b[0;34m\u001b[0m\n\u001b[1;32m      1\u001b[0m \u001b[0mvae\u001b[0m\u001b[0;34m.\u001b[0m\u001b[0mcompile\u001b[0m\u001b[0;34m(\u001b[0m\u001b[0moptimizer\u001b[0m\u001b[0;34m=\u001b[0m\u001b[0;34m'adam'\u001b[0m\u001b[0;34m)\u001b[0m\u001b[0;34m\u001b[0m\u001b[0;34m\u001b[0m\u001b[0m\n\u001b[0;32m----> 2\u001b[0;31m vae_history = vae.fit(\n\u001b[0m\u001b[1;32m      3\u001b[0m     \u001b[0mtrain_data\u001b[0m\u001b[0;34m,\u001b[0m\u001b[0;34m\u001b[0m\u001b[0;34m\u001b[0m\u001b[0m\n\u001b[1;32m      4\u001b[0m     \u001b[0mbatch_size\u001b[0m\u001b[0;34m=\u001b[0m\u001b[0;36m32\u001b[0m\u001b[0;34m,\u001b[0m\u001b[0;34m\u001b[0m\u001b[0;34m\u001b[0m\u001b[0m\n\u001b[1;32m      5\u001b[0m     \u001b[0mepochs\u001b[0m\u001b[0;34m=\u001b[0m\u001b[0mEPOCHS\u001b[0m\u001b[0;34m,\u001b[0m\u001b[0;34m\u001b[0m\u001b[0;34m\u001b[0m\u001b[0m\n",
      "\u001b[0;32m~/Documents/af_prediction_pipelines/ai_af/lib/python3.9/site-packages/keras/engine/training_v1.py\u001b[0m in \u001b[0;36mfit\u001b[0;34m(self, x, y, batch_size, epochs, verbose, callbacks, validation_split, validation_data, shuffle, class_weight, sample_weight, initial_epoch, steps_per_epoch, validation_steps, validation_freq, max_queue_size, workers, use_multiprocessing, **kwargs)\u001b[0m\n\u001b[1;32m    854\u001b[0m \u001b[0;34m\u001b[0m\u001b[0m\n\u001b[1;32m    855\u001b[0m         \u001b[0mfunc\u001b[0m \u001b[0;34m=\u001b[0m \u001b[0mself\u001b[0m\u001b[0;34m.\u001b[0m\u001b[0m_select_training_loop\u001b[0m\u001b[0;34m(\u001b[0m\u001b[0mx\u001b[0m\u001b[0;34m)\u001b[0m\u001b[0;34m\u001b[0m\u001b[0;34m\u001b[0m\u001b[0m\n\u001b[0;32m--> 856\u001b[0;31m         return func.fit(\n\u001b[0m\u001b[1;32m    857\u001b[0m             \u001b[0mself\u001b[0m\u001b[0;34m,\u001b[0m\u001b[0;34m\u001b[0m\u001b[0;34m\u001b[0m\u001b[0m\n\u001b[1;32m    858\u001b[0m             \u001b[0mx\u001b[0m\u001b[0;34m=\u001b[0m\u001b[0mx\u001b[0m\u001b[0;34m,\u001b[0m\u001b[0;34m\u001b[0m\u001b[0;34m\u001b[0m\u001b[0m\n",
      "\u001b[0;32m~/Documents/af_prediction_pipelines/ai_af/lib/python3.9/site-packages/keras/engine/training_arrays_v1.py\u001b[0m in \u001b[0;36mfit\u001b[0;34m(self, model, x, y, batch_size, epochs, verbose, callbacks, validation_split, validation_data, shuffle, class_weight, sample_weight, initial_epoch, steps_per_epoch, validation_steps, validation_freq, **kwargs)\u001b[0m\n\u001b[1;32m    732\u001b[0m             \u001b[0mval_x\u001b[0m\u001b[0;34m,\u001b[0m \u001b[0mval_y\u001b[0m\u001b[0;34m,\u001b[0m \u001b[0mval_sample_weights\u001b[0m \u001b[0;34m=\u001b[0m \u001b[0;32mNone\u001b[0m\u001b[0;34m,\u001b[0m \u001b[0;32mNone\u001b[0m\u001b[0;34m,\u001b[0m \u001b[0;32mNone\u001b[0m\u001b[0;34m\u001b[0m\u001b[0;34m\u001b[0m\u001b[0m\n\u001b[1;32m    733\u001b[0m \u001b[0;34m\u001b[0m\u001b[0m\n\u001b[0;32m--> 734\u001b[0;31m         return fit_loop(\n\u001b[0m\u001b[1;32m    735\u001b[0m             \u001b[0mmodel\u001b[0m\u001b[0;34m,\u001b[0m\u001b[0;34m\u001b[0m\u001b[0;34m\u001b[0m\u001b[0m\n\u001b[1;32m    736\u001b[0m             \u001b[0minputs\u001b[0m\u001b[0;34m=\u001b[0m\u001b[0mx\u001b[0m\u001b[0;34m,\u001b[0m\u001b[0;34m\u001b[0m\u001b[0;34m\u001b[0m\u001b[0m\n",
      "\u001b[0;32m~/Documents/af_prediction_pipelines/ai_af/lib/python3.9/site-packages/keras/engine/training_arrays_v1.py\u001b[0m in \u001b[0;36mmodel_iteration\u001b[0;34m(model, inputs, targets, sample_weights, batch_size, epochs, verbose, callbacks, val_inputs, val_targets, val_sample_weights, shuffle, initial_epoch, steps_per_epoch, validation_steps, validation_freq, mode, validation_in_fit, prepared_feed_values_from_dataset, steps_name, **kwargs)\u001b[0m\n\u001b[1;32m    419\u001b[0m \u001b[0;34m\u001b[0m\u001b[0m\n\u001b[1;32m    420\u001b[0m                 \u001b[0;31m# Get outputs.\u001b[0m\u001b[0;34m\u001b[0m\u001b[0;34m\u001b[0m\u001b[0m\n\u001b[0;32m--> 421\u001b[0;31m                 \u001b[0mbatch_outs\u001b[0m \u001b[0;34m=\u001b[0m \u001b[0mf\u001b[0m\u001b[0;34m(\u001b[0m\u001b[0mins_batch\u001b[0m\u001b[0;34m)\u001b[0m\u001b[0;34m\u001b[0m\u001b[0;34m\u001b[0m\u001b[0m\n\u001b[0m\u001b[1;32m    422\u001b[0m                 \u001b[0;32mif\u001b[0m \u001b[0;32mnot\u001b[0m \u001b[0misinstance\u001b[0m\u001b[0;34m(\u001b[0m\u001b[0mbatch_outs\u001b[0m\u001b[0;34m,\u001b[0m \u001b[0mlist\u001b[0m\u001b[0;34m)\u001b[0m\u001b[0;34m:\u001b[0m\u001b[0;34m\u001b[0m\u001b[0;34m\u001b[0m\u001b[0m\n\u001b[1;32m    423\u001b[0m                     \u001b[0mbatch_outs\u001b[0m \u001b[0;34m=\u001b[0m \u001b[0;34m[\u001b[0m\u001b[0mbatch_outs\u001b[0m\u001b[0;34m]\u001b[0m\u001b[0;34m\u001b[0m\u001b[0;34m\u001b[0m\u001b[0m\n",
      "\u001b[0;32m~/Documents/af_prediction_pipelines/ai_af/lib/python3.9/site-packages/keras/backend.py\u001b[0m in \u001b[0;36m__call__\u001b[0;34m(self, inputs)\u001b[0m\n\u001b[1;32m   4606\u001b[0m             \u001b[0mself\u001b[0m\u001b[0;34m.\u001b[0m\u001b[0m_make_callable\u001b[0m\u001b[0;34m(\u001b[0m\u001b[0mfeed_arrays\u001b[0m\u001b[0;34m,\u001b[0m \u001b[0mfeed_symbols\u001b[0m\u001b[0;34m,\u001b[0m \u001b[0msymbol_vals\u001b[0m\u001b[0;34m,\u001b[0m \u001b[0msession\u001b[0m\u001b[0;34m)\u001b[0m\u001b[0;34m\u001b[0m\u001b[0;34m\u001b[0m\u001b[0m\n\u001b[1;32m   4607\u001b[0m \u001b[0;34m\u001b[0m\u001b[0m\n\u001b[0;32m-> 4608\u001b[0;31m         \u001b[0mfetched\u001b[0m \u001b[0;34m=\u001b[0m \u001b[0mself\u001b[0m\u001b[0;34m.\u001b[0m\u001b[0m_callable_fn\u001b[0m\u001b[0;34m(\u001b[0m\u001b[0;34m*\u001b[0m\u001b[0marray_vals\u001b[0m\u001b[0;34m,\u001b[0m \u001b[0mrun_metadata\u001b[0m\u001b[0;34m=\u001b[0m\u001b[0mself\u001b[0m\u001b[0;34m.\u001b[0m\u001b[0mrun_metadata\u001b[0m\u001b[0;34m)\u001b[0m\u001b[0;34m\u001b[0m\u001b[0;34m\u001b[0m\u001b[0m\n\u001b[0m\u001b[1;32m   4609\u001b[0m         \u001b[0mself\u001b[0m\u001b[0;34m.\u001b[0m\u001b[0m_call_fetch_callbacks\u001b[0m\u001b[0;34m(\u001b[0m\u001b[0mfetched\u001b[0m\u001b[0;34m[\u001b[0m\u001b[0;34m-\u001b[0m\u001b[0mlen\u001b[0m\u001b[0;34m(\u001b[0m\u001b[0mself\u001b[0m\u001b[0;34m.\u001b[0m\u001b[0m_fetches\u001b[0m\u001b[0;34m)\u001b[0m \u001b[0;34m:\u001b[0m\u001b[0;34m]\u001b[0m\u001b[0;34m)\u001b[0m\u001b[0;34m\u001b[0m\u001b[0;34m\u001b[0m\u001b[0m\n\u001b[1;32m   4610\u001b[0m         output_structure = tf.nest.pack_sequence_as(\n",
      "\u001b[0;32m~/Documents/af_prediction_pipelines/ai_af/lib/python3.9/site-packages/tensorflow/python/client/session.py\u001b[0m in \u001b[0;36m__call__\u001b[0;34m(self, *args, **kwargs)\u001b[0m\n\u001b[1;32m   1479\u001b[0m       \u001b[0;32mtry\u001b[0m\u001b[0;34m:\u001b[0m\u001b[0;34m\u001b[0m\u001b[0;34m\u001b[0m\u001b[0m\n\u001b[1;32m   1480\u001b[0m         \u001b[0mrun_metadata_ptr\u001b[0m \u001b[0;34m=\u001b[0m \u001b[0mtf_session\u001b[0m\u001b[0;34m.\u001b[0m\u001b[0mTF_NewBuffer\u001b[0m\u001b[0;34m(\u001b[0m\u001b[0;34m)\u001b[0m \u001b[0;32mif\u001b[0m \u001b[0mrun_metadata\u001b[0m \u001b[0;32melse\u001b[0m \u001b[0;32mNone\u001b[0m\u001b[0;34m\u001b[0m\u001b[0;34m\u001b[0m\u001b[0m\n\u001b[0;32m-> 1481\u001b[0;31m         ret = tf_session.TF_SessionRunCallable(self._session._session,\n\u001b[0m\u001b[1;32m   1482\u001b[0m                                                \u001b[0mself\u001b[0m\u001b[0;34m.\u001b[0m\u001b[0m_handle\u001b[0m\u001b[0;34m,\u001b[0m \u001b[0margs\u001b[0m\u001b[0;34m,\u001b[0m\u001b[0;34m\u001b[0m\u001b[0;34m\u001b[0m\u001b[0m\n\u001b[1;32m   1483\u001b[0m                                                run_metadata_ptr)\n",
      "\u001b[0;31mKeyboardInterrupt\u001b[0m: "
     ]
    }
   ],
   "source": [
    "vae.compile(optimizer='adam')\n",
    "vae_history = vae.fit(\n",
    "    train_data,\n",
    "    batch_size=32,\n",
    "    epochs=EPOCHS,\n",
    "    callbacks=[                                                   \n",
    "                create_tensorboard_callback(dir_name=\"callbacks\", experiment_name=\"samedi_4_test\"), \n",
    "                BestModelCallback('model/model_samedi_4.h5'),\n",
    "                DVCLiveCallback(save_dvc_exp=True),\n",
    "                ReduceLROnPlateau(\n",
    "                    monitor='r_loss',\n",
    "                    factor=0.1,\n",
    "                    patience=10,\n",
    "                    min_lr=LEARNING_RATE / 100)\n",
    "\n",
    "                # EarlyStopping(patience=12,  \n",
    "                #             min_delta=0.00001)\n",
    "                                     ]\n",
    ")"
   ]
  },
  {
   "cell_type": "code",
   "execution_count": 84,
   "metadata": {},
   "outputs": [
    {
     "name": "stdout",
     "output_type": "stream",
     "text": [
      "2/2 [==============================] - 1s 165ms/step - loss: 0.7474 - r_loss: 0.6775 - kl_loss: 0.0699\n",
      "Loss: 0.7473880648612976\n",
      "r_loss: 0.7473880648612976\n",
      "kl_loss: 0.677464485168457\n"
     ]
    }
   ],
   "source": [
    "model_test_1 = tf.keras.models.load_model('model/model_samedi_1.h5', custom_objects={'SamplingLayer': SamplingLayer, 'VariationalLossLayer':VariationalLossLayer})\n",
    "model_test_2 = tf.keras.models.load_model('model/model_samedi_2.h5', custom_objects={'SamplingLayer': SamplingLayer, 'VariationalLossLayer':VariationalLossLayer})\n",
    "\n",
    "# decoder_model = model_test.get_layer('decoder')\n",
    "\n",
    "# latent_dim = 10 # la dimension de l'espace latent du modèle\n",
    "\n",
    "# # Générer des vecteurs latents aléatoires de taille (10, latent_dim)\n",
    "# z_sample = np.random.normal(size=(1, latent_dim))\n",
    "\n",
    "# # Générer des données à partir des vecteurs latents\n",
    "# generated_data = decoder.predict(z_sample)\n",
    "\n",
    "# Afficher les valeurs de perte du modèle\n",
    "# loss = vae.history.history['loss']\n",
    "# r_loss = vae.history.history['r_loss']\n",
    "# kl_loss = vae.history.history['kl_loss']\n",
    "\n",
    "# print('Valeur de perte totale :', loss[-1])\n",
    "# print('Valeur de perte de reconstruction :', r_loss[-1])\n",
    "# print('Valeur de perte :', kl_loss[-1])\n",
    "\n",
    "\n",
    "# Charger les données de test\n",
    "# x_test = ...\n",
    "# y_test = ...\n",
    "\n",
    "# Calculer les valeurs de perte\n",
    "loss_values = model_test_2.evaluate(train_data, train_data)\n",
    "\n",
    "# Afficher les valeurs de perte\n",
    "print('Loss:', loss_values[0])\n",
    "print('r_loss:', loss_values[1])\n",
    "print('kl_loss:', loss_values[2])\n"
   ]
  },
  {
   "cell_type": "code",
   "execution_count": 86,
   "metadata": {},
   "outputs": [
    {
     "name": "stdout",
     "output_type": "stream",
     "text": [
      "(54, 400, 12, 1)\n",
      "2/2 [==============================] - 1s 134ms/step - loss: 0.7252 - r_loss: 0.6811 - kl_loss: 0.0441\n",
      "Loss: 0.7252025604248047\n",
      "r_loss: 0.7252025604248047\n",
      "kl_loss: 0.6810884475708008\n"
     ]
    }
   ],
   "source": [
    "\n",
    "with h5py.File('xml_data/ecg_tracings.hdf5', 'r') as f:\n",
    "        X_test = f['tracings'][:]\n",
    "\n",
    "test_data_antonio =  X_test.reshape(X_train.shape + (1,)) # to align with our input shape\n",
    "print(test_data_antonio.shape)\n",
    "\n",
    "# Calculer les valeurs de perte\n",
    "loss_values_test = model_test_1.evaluate(test_data_antonio, test_data_antonio)\n",
    "\n",
    "# Afficher les valeurs de perte\n",
    "print('Loss:', loss_values_test[0])\n",
    "print('r_loss:', loss_values_test[1])\n",
    "print('kl_loss:', loss_values_test[2])"
   ]
  },
  {
   "cell_type": "code",
   "execution_count": 68,
   "metadata": {},
   "outputs": [],
   "source": [
    "from sklearn.decomposition import PCA"
   ]
  },
  {
   "cell_type": "code",
   "execution_count": 74,
   "metadata": {},
   "outputs": [
    {
     "ename": "AttributeError",
     "evalue": "'ELU' object has no attribute 'predict'",
     "output_type": "error",
     "traceback": [
      "\u001b[0;31m---------------------------------------------------------------------------\u001b[0m",
      "\u001b[0;31mAttributeError\u001b[0m                            Traceback (most recent call last)",
      "\u001b[0;32m/tmp/ipykernel_229601/3724571405.py\u001b[0m in \u001b[0;36m<module>\u001b[0;34m\u001b[0m\n\u001b[1;32m      1\u001b[0m \u001b[0;31m# Encoder les données en entrée dans l'espace latent\u001b[0m\u001b[0;34m\u001b[0m\u001b[0;34m\u001b[0m\u001b[0m\n\u001b[1;32m      2\u001b[0m \u001b[0mencoder\u001b[0m \u001b[0;34m=\u001b[0m \u001b[0mmodel_test\u001b[0m\u001b[0;34m.\u001b[0m\u001b[0mget_layer\u001b[0m\u001b[0;34m(\u001b[0m\u001b[0;34m'encoder_relu_3'\u001b[0m\u001b[0;34m)\u001b[0m\u001b[0;34m\u001b[0m\u001b[0;34m\u001b[0m\u001b[0m\n\u001b[0;32m----> 3\u001b[0;31m \u001b[0mx_test_encoded\u001b[0m \u001b[0;34m=\u001b[0m \u001b[0mencoder\u001b[0m\u001b[0;34m.\u001b[0m\u001b[0mpredict\u001b[0m\u001b[0;34m(\u001b[0m\u001b[0mtrain_data\u001b[0m\u001b[0;34m,\u001b[0m \u001b[0mbatch_size\u001b[0m\u001b[0;34m=\u001b[0m\u001b[0mBATCH_SIZE\u001b[0m\u001b[0;34m)\u001b[0m\u001b[0;34m\u001b[0m\u001b[0;34m\u001b[0m\u001b[0m\n\u001b[0m\u001b[1;32m      4\u001b[0m \u001b[0;34m\u001b[0m\u001b[0m\n\u001b[1;32m      5\u001b[0m \u001b[0;31m# Réduire la dimensionnalité de l'espace latent à l'aide de PCA\u001b[0m\u001b[0;34m\u001b[0m\u001b[0;34m\u001b[0m\u001b[0m\n",
      "\u001b[0;31mAttributeError\u001b[0m: 'ELU' object has no attribute 'predict'"
     ]
    }
   ],
   "source": [
    "# Encoder les données en entrée dans l'espace latent\n",
    "encoder = model_test.get_layer('encoder_relu_3')\n",
    "x_test_encoded = encoder.predict(train_data, batch_size=BATCH_SIZE)\n",
    "\n",
    "# Réduire la dimensionnalité de l'espace latent à l'aide de PCA\n",
    "pca = PCA(n_components=5)\n",
    "latent_space = pca.fit_transform(x_test_encoded)\n",
    "\n",
    "# Afficher l'espace latent\n",
    "plt.scatter(latent_space[:, 0], latent_space[:, 1], c=train_data)\n",
    "plt.colorbar()\n",
    "plt.show()"
   ]
  },
  {
   "cell_type": "code",
   "execution_count": 58,
   "metadata": {},
   "outputs": [
    {
     "ename": "AttributeError",
     "evalue": "'NoneType' object has no attribute 'history'",
     "output_type": "error",
     "traceback": [
      "\u001b[0;31m---------------------------------------------------------------------------\u001b[0m",
      "\u001b[0;31mAttributeError\u001b[0m                            Traceback (most recent call last)",
      "\u001b[0;32m/tmp/ipykernel_229601/3475386261.py\u001b[0m in \u001b[0;36m<module>\u001b[0;34m\u001b[0m\n\u001b[1;32m     28\u001b[0m \u001b[0;34m\u001b[0m\u001b[0m\n\u001b[1;32m     29\u001b[0m \u001b[0;34m\u001b[0m\u001b[0m\n\u001b[0;32m---> 30\u001b[0;31m \u001b[0mplot_metrics_curves\u001b[0m\u001b[0;34m(\u001b[0m\u001b[0mmodel_test\u001b[0m\u001b[0;34m.\u001b[0m\u001b[0mhistory\u001b[0m\u001b[0;34m)\u001b[0m\u001b[0;34m;\u001b[0m\u001b[0;34m\u001b[0m\u001b[0;34m\u001b[0m\u001b[0m\n\u001b[0m",
      "\u001b[0;32m/tmp/ipykernel_229601/3475386261.py\u001b[0m in \u001b[0;36mplot_metrics_curves\u001b[0;34m(history)\u001b[0m\n\u001b[1;32m      1\u001b[0m \u001b[0;32mdef\u001b[0m \u001b[0mplot_metrics_curves\u001b[0m\u001b[0;34m(\u001b[0m\u001b[0mhistory\u001b[0m\u001b[0;34m)\u001b[0m\u001b[0;34m:\u001b[0m\u001b[0;34m\u001b[0m\u001b[0;34m\u001b[0m\u001b[0m\n\u001b[1;32m      2\u001b[0m \u001b[0;34m\u001b[0m\u001b[0m\n\u001b[0;32m----> 3\u001b[0;31m     \u001b[0mloss\u001b[0m \u001b[0;34m=\u001b[0m \u001b[0mhistory\u001b[0m\u001b[0;34m.\u001b[0m\u001b[0mhistory\u001b[0m\u001b[0;34m[\u001b[0m\u001b[0;34m\"loss\"\u001b[0m\u001b[0;34m]\u001b[0m\u001b[0;34m\u001b[0m\u001b[0;34m\u001b[0m\u001b[0m\n\u001b[0m\u001b[1;32m      4\u001b[0m     \u001b[0mr_loss\u001b[0m \u001b[0;34m=\u001b[0m \u001b[0mhistory\u001b[0m\u001b[0;34m.\u001b[0m\u001b[0mhistory\u001b[0m\u001b[0;34m[\u001b[0m\u001b[0;34m\"r_loss\"\u001b[0m\u001b[0;34m]\u001b[0m\u001b[0;34m\u001b[0m\u001b[0;34m\u001b[0m\u001b[0m\n\u001b[1;32m      5\u001b[0m     \u001b[0mkl_loss\u001b[0m \u001b[0;34m=\u001b[0m \u001b[0mhistory\u001b[0m\u001b[0;34m.\u001b[0m\u001b[0mhistory\u001b[0m\u001b[0;34m[\u001b[0m\u001b[0;34m\"kl_loss\"\u001b[0m\u001b[0;34m]\u001b[0m\u001b[0;34m\u001b[0m\u001b[0;34m\u001b[0m\u001b[0m\n",
      "\u001b[0;31mAttributeError\u001b[0m: 'NoneType' object has no attribute 'history'"
     ]
    }
   ],
   "source": [
    "def plot_metrics_curves(history):\n",
    "\n",
    "    loss = history.history[\"loss\"]\n",
    "    r_loss = history.history[\"r_loss\"]\n",
    "    kl_loss = history.history[\"kl_loss\"]\n",
    "\n",
    "    epochs = range(len(history.history[\"loss\"]))\n",
    "\n",
    "    # Create a new figure and axis objects\n",
    "    fig, axs = plt.subplots(1, 3, figsize=(10, 3))\n",
    "\n",
    "    # Plot the losses\n",
    "    axs[0].plot(epochs, loss, label='training_loss', color='blue')\n",
    "    axs[1].plot(epochs, r_loss, label='reconstruction_loss', color='red')\n",
    "    axs[2].plot(epochs, kl_loss, label='kl_loss', color='orange')\n",
    "\n",
    "    axs[0].set_title('Erreur totale')\n",
    "    axs[0].legend()\n",
    "    axs[1].set_title('Erreur de reconstruction')\n",
    "    axs[1].legend()\n",
    "    axs[2].set_title('Erreur de Kullback Leiber')\n",
    "    axs[2].legend()\n",
    "\n",
    "    \n",
    "\n",
    "    # Show the plot\n",
    "    plt.show()\n",
    "\n",
    "\n",
    "plot_metrics_curves(model_test.history);\n"
   ]
  },
  {
   "cell_type": "code",
   "execution_count": 43,
   "metadata": {},
   "outputs": [
    {
     "name": "stdout",
     "output_type": "stream",
     "text": [
      "(1, 400, 1)\n",
      "(1, 1, 400, 1)\n",
      "(1, 400, 1)\n"
     ]
    }
   ],
   "source": [
    "print(generated_data[0].shape)\n",
    "print(generated_data.shape)\n",
    "sample = generated_data[0]\n",
    "print(sample.shape)"
   ]
  },
  {
   "cell_type": "code",
   "execution_count": 44,
   "metadata": {},
   "outputs": [
    {
     "data": {
      "text/plain": [
       "[<matplotlib.lines.Line2D at 0x7fa8f6f0c160>]"
      ]
     },
     "execution_count": 44,
     "metadata": {},
     "output_type": "execute_result"
    },
    {
     "data": {
      "image/png": "[encoded data removed]",
      "text/plain": [
       "<Figure size 432x288 with 1 Axes>"
      ]
     },
     "metadata": {
      "needs_background": "light"
     },
     "output_type": "display_data"
    }
   ],
   "source": [
    "sample = sample.squeeze()\n",
    "\n",
    "# Création d'un vecteur pour l'axe des x\n",
    "x = np.arange(sample.shape[0])\n",
    "\n",
    "# Tracé de la courbe\n",
    "#fig, ax = plt.figure(1,1,figsize=(12,4))\n",
    "plt.plot(x, sample)\n"
   ]
  },
  {
   "cell_type": "code",
   "execution_count": 3,
   "metadata": {},
   "outputs": [],
   "source": [
    "\n",
    "    \n",
    "# !tensorboard dev upload --logdir ./tensorflow_hub/ \\\n",
    "#     --name \"EfficientNetB0 vs. ResNet50V2\" \\ \n",
    "#     --description \"Comparaison de deux architectures différentes de modèles d'extraction de caractéristiques du Hub TF en utilisant 10% des images d'entraînement\" \\ \n",
    "#     --une_image"
   ]
  },
  {
   "attachments": {},
   "cell_type": "markdown",
   "metadata": {},
   "source": [
    "## Génération de données avec un GAN"
   ]
  },
  {
   "cell_type": "markdown",
   "metadata": {},
   "source": []
  }
 ],
 "metadata": {
  "kernelspec": {
   "display_name": "ai_af",
   "language": "python",
   "name": "python3"
  },
  "language_info": {
   "codemirror_mode": {
    "name": "ipython",
    "version": 3
   },
   "file_extension": ".py",
   "mimetype": "text/x-python",
   "name": "python",
   "nbconvert_exporter": "python",
   "pygments_lexer": "ipython3",
   "version": "3.9.7"
  },
  "orig_nbformat": 4,
  "vscode": {
   "interpreter": {
    "hash": "772cbd346e8c494074ba75abc765a19a574b43034fb1321cd503cddeb8e68666"
   }
  }
 },
 "nbformat": 4,
 "nbformat_minor": 2
}
